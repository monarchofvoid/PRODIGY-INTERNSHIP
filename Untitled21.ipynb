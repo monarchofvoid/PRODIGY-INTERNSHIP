{
  "nbformat": 4,
  "nbformat_minor": 0,
  "metadata": {
    "colab": {
      "provenance": [],
      "authorship_tag": "ABX9TyONSrsYWLrNDUxbdzqT12xm",
      "include_colab_link": true
    },
    "kernelspec": {
      "name": "python3",
      "display_name": "Python 3"
    },
    "language_info": {
      "name": "python"
    }
  },
  "cells": [
    {
      "cell_type": "markdown",
      "metadata": {
        "id": "view-in-github",
        "colab_type": "text"
      },
      "source": [
        "<a href=\"https://colab.research.google.com/github/monarchofvoid/PRODIGY-INTERNSHIP/blob/main/Untitled21.ipynb\" target=\"_parent\"><img src=\"https://colab.research.google.com/assets/colab-badge.svg\" alt=\"Open In Colab\"/></a>"
      ]
    },
    {
      "cell_type": "code",
      "execution_count": 1,
      "metadata": {
        "colab": {
          "base_uri": "https://localhost:8080/"
        },
        "id": "UQsNYDj1zfhe",
        "outputId": "fcd82b83-3b0d-42d0-e17c-44d605e6d375"
      },
      "outputs": [
        {
          "output_type": "stream",
          "name": "stdout",
          "text": [
            "📝 Generated Text:\n",
            "\n",
            "dry bread--and in one moment the brain or Siberia.” (Sonia looked wildly at him, clasping her hands in his room.... But where are you all so difficult was that he was working for! That’s how it happened. He is injured, but not like concealment and deception. Better let us go at once....” And she was dreaming, and she is in a sort of despair, “what would it matter to know why I spoke about her character and the very fact that he noticed in him a knock-down blow, he-he-he!--your felicitous comparison, he-he! So you don’t know what to say. “You shouldn’t hack about with an object of dividing me from her, Sonia, first with his hand and felt every moment that he was not frightened at his article. Incongruous as it is.... Missy, hey, missy!” he bent down quickly and indistinctly, hurrying and spluttering. All at once something seemed to be less loathsome to pass that she only looked in... I came to me... to that of you, Pyotr Petrovitch, who was just talking of my life go, if only my dear fellow! How could he have failed to come back. Wait for me, pity for a minute before, forcing his feelings\n"
          ]
        }
      ],
      "source": [
        "import random\n",
        "\n",
        "# Load text\n",
        "def load_text(filepath):\n",
        "    with open(filepath, 'r', encoding='utf-8') as file:\n",
        "        return file.read()\n",
        "\n",
        "# Tokenize\n",
        "def tokenize(text):\n",
        "    return text.replace('\\n', ' ').split()\n",
        "\n",
        "# Build trigram model: (word1, word2) → [word3, word3, ...]\n",
        "def build_trigram_chain(words):\n",
        "    trigram_chain = {}\n",
        "    for i in range(len(words) - 2):\n",
        "        key = (words[i], words[i + 1])\n",
        "        next_word = words[i + 2]\n",
        "        if key not in trigram_chain:\n",
        "            trigram_chain[key] = []\n",
        "        trigram_chain[key].append(next_word)\n",
        "    return trigram_chain\n",
        "\n",
        "# Generate text\n",
        "def generate_trigram_text(chain, length=100):\n",
        "    start = random.choice(list(chain.keys()))\n",
        "    output = [start[0], start[1]]\n",
        "\n",
        "    for _ in range(length):\n",
        "        key = (output[-2], output[-1])\n",
        "        next_words = chain.get(key)\n",
        "        if not next_words:\n",
        "            break\n",
        "        output.append(random.choice(next_words))\n",
        "    return ' '.join(output)\n",
        "\n",
        "def strip_gutenberg_boilerplate(text):\n",
        "    start = text.find(\"*** START OF THE PROJECT GUTENBERG EBOOK\")\n",
        "    end = text.find(\"*** END OF THE PROJECT GUTENBERG EBOOK\")\n",
        "    if start != -1 and end != -1:\n",
        "        return text[start:end]\n",
        "    return text\n",
        "\n",
        "\n",
        "\n",
        "# Main\n",
        "if __name__ == \"__main__\":\n",
        "    file_path = \"/content/Crime and Punishment.txt\"\n",
        "    raw = load_text(file_path)\n",
        "    text = strip_gutenberg_boilerplate(raw)\n",
        "    words = tokenize(text)\n",
        "    chain = build_trigram_chain(words)\n",
        "    generated_text = generate_trigram_text(chain, length=200)\n",
        "\n",
        "    print(\"📝 Generated Text:\\n\")\n",
        "    print(generated_text)\n"
      ]
    }
  ]
}